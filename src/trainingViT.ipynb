{
 "cells": [
  {
   "cell_type": "code",
   "execution_count": 1,
   "metadata": {},
   "outputs": [
    {
     "name": "stderr",
     "output_type": "stream",
     "text": [
      "c:\\Users\\parth\\AppData\\Local\\Programs\\Python\\Python311\\Lib\\site-packages\\tqdm\\auto.py:21: TqdmWarning: IProgress not found. Please update jupyter and ipywidgets. See https://ipywidgets.readthedocs.io/en/stable/user_install.html\n",
      "  from .autonotebook import tqdm as notebook_tqdm\n"
     ]
    }
   ],
   "source": [
    "from visual_transformer import VisionTransformerModel\n",
    "from DIPutils import DIPTransform\n",
    "import torch\n",
    "import torch.nn as nn\n",
    "import torch.optim as optim\n",
    "from torch.utils.data import DataLoader, random_split\n",
    "from torchvision import datasets, transforms\n",
    "from sklearn.metrics import confusion_matrix, f1_score, recall_score\n",
    "import numpy as np\n",
    "import matplotlib.pyplot as plt\n",
    "import seaborn as sns"
   ]
  },
  {
   "cell_type": "code",
   "execution_count": 2,
   "metadata": {},
   "outputs": [],
   "source": [
    "# Set dataset path\n",
    "dataset_path = r\"C:\\Users\\parth\\Downloads\\Kindey-Stone-Dataset\\Kindey-Stone-Dataset\\Augmented\""
   ]
  },
  {
   "cell_type": "code",
   "execution_count": 3,
   "metadata": {},
   "outputs": [],
   "source": [
    "# Define transformations (resize, normalize, etc.)\n",
    "transform = transforms.Compose([\n",
    "    # DIPTransform(target_size=500),  # Apply DIP pipeline\n",
    "    # transforms.ToPILImage(),        # Convert back to PIL imagev\n",
    "    transforms.Resize((224, 224)),  # Resize to model input size\n",
    "    transforms.ToTensor(),          # Convert to tensor\n",
    "])"
   ]
  },
  {
   "cell_type": "code",
   "execution_count": 4,
   "metadata": {},
   "outputs": [
    {
     "name": "stdout",
     "output_type": "stream",
     "text": [
      "Train size: 24821, Validation size: 5318, Test size: 5318\n",
      "Number of classes: 2\n"
     ]
    }
   ],
   "source": [
    "# Load the dataset\n",
    "dataset_path = dataset_path\n",
    "dataset = datasets.ImageFolder(root=dataset_path, transform=transform)\n",
    "\n",
    "# Define split sizes\n",
    "total_size = len(dataset)\n",
    "val_size = int(0.15 * total_size)  # 15% for validation\n",
    "test_size = int(0.15 * total_size)  # 15% for testing\n",
    "train_size = total_size - (val_size + test_size)  # Remaining 70% for training\n",
    "\n",
    "# Split dataset\n",
    "train_ds, val_ds, test_ds = random_split(dataset, [train_size, val_size, test_size])\n",
    "\n",
    "# Create data loaders\n",
    "batch_size = 64 \n",
    "train_loader = DataLoader(train_ds, batch_size=batch_size, shuffle=True)\n",
    "val_loader = DataLoader(val_ds, batch_size=batch_size, shuffle=False)\n",
    "test_loader = DataLoader(test_ds, batch_size=batch_size, shuffle=False)\n",
    "\n",
    "print(f\"Train size: {len(train_ds)}, Validation size: {len(val_ds)}, Test size: {len(test_ds)}\")\n",
    "# also print the number of classes\n",
    "num_classes = len(dataset.classes)\n",
    "print(f\"Number of classes: {num_classes}\")"
   ]
  },
  {
   "cell_type": "code",
   "execution_count": 5,
   "metadata": {},
   "outputs": [
    {
     "name": "stdout",
     "output_type": "stream",
     "text": [
      "VisionTransformerModel(\n",
      "  (patch_embed): Conv2d(3, 768, kernel_size=(16, 16), stride=(16, 16))\n",
      "  (attn): MultiheadAttention(\n",
      "    (out_proj): NonDynamicallyQuantizableLinear(in_features=768, out_features=768, bias=True)\n",
      "  )\n",
      "  (ffn): Sequential(\n",
      "    (0): Linear(in_features=768, out_features=512, bias=True)\n",
      "    (1): GELU(approximate='none')\n",
      "    (2): Linear(in_features=512, out_features=768, bias=True)\n",
      "  )\n",
      "  (layer_norm1): LayerNorm((768,), eps=1e-05, elementwise_affine=True)\n",
      "  (layer_norm2): LayerNorm((768,), eps=1e-05, elementwise_affine=True)\n",
      "  (layer_norm): LayerNorm((768,), eps=1e-05, elementwise_affine=True)\n",
      "  (dense1): Linear(in_features=768, out_features=256, bias=True)\n",
      "  (dropout): Dropout(p=0.3, inplace=False)\n",
      "  (classifier): Linear(in_features=256, out_features=2, bias=True)\n",
      ")\n"
     ]
    }
   ],
   "source": [
    "# Define model\n",
    "model = VisionTransformerModel(input_shape=(224, 224, 3), num_classes=2)\n",
    "print(model)"
   ]
  },
  {
   "cell_type": "code",
   "execution_count": 6,
   "metadata": {},
   "outputs": [
    {
     "name": "stdout",
     "output_type": "stream",
     "text": [
      "torch.Size([768, 3, 16, 16])\n"
     ]
    }
   ],
   "source": [
    "print(model.patch_embed.weight.shape)"
   ]
  },
  {
   "cell_type": "code",
   "execution_count": 7,
   "metadata": {},
   "outputs": [],
   "source": [
    "criterion = nn.CrossEntropyLoss()\n",
    "optimizer = optim.Adam(model.parameters(), lr=1e-4)\n",
    "def compute_accuracy(outputs, labels):\n",
    "    _, preds = torch.max(outputs, dim=1)\n",
    "    return (preds == labels).float().mean().item()\n"
   ]
  },
  {
   "cell_type": "code",
   "execution_count": 8,
   "metadata": {},
   "outputs": [
    {
     "name": "stdout",
     "output_type": "stream",
     "text": [
      "Using device: cuda\n",
      "Epoch [1/20]\n",
      "Train Loss: 0.6914, Train Accuracy: 0.5354\n",
      "Val Loss: 0.6926, Val Accuracy: 0.5276\n",
      "\n",
      "Epoch [2/20]\n",
      "Train Loss: 0.6897, Train Accuracy: 0.5428\n",
      "Val Loss: 0.6936, Val Accuracy: 0.5276\n",
      "\n",
      "Epoch [3/20]\n",
      "Train Loss: 0.6886, Train Accuracy: 0.5429\n",
      "Val Loss: 0.6919, Val Accuracy: 0.5369\n",
      "\n",
      "Epoch [4/20]\n",
      "Train Loss: 0.6851, Train Accuracy: 0.5463\n",
      "Val Loss: 0.6835, Val Accuracy: 0.5542\n",
      "\n",
      "Epoch [5/20]\n",
      "Train Loss: 0.6804, Train Accuracy: 0.5671\n",
      "Val Loss: 0.6853, Val Accuracy: 0.5510\n",
      "\n",
      "Epoch [6/20]\n",
      "Train Loss: 0.6764, Train Accuracy: 0.5774\n",
      "Val Loss: 0.6772, Val Accuracy: 0.5724\n",
      "\n",
      "Epoch [7/20]\n",
      "Train Loss: 0.6673, Train Accuracy: 0.5964\n",
      "Val Loss: 0.6651, Val Accuracy: 0.5980\n",
      "\n",
      "Epoch [8/20]\n",
      "Train Loss: 0.6652, Train Accuracy: 0.5978\n",
      "Val Loss: 0.6649, Val Accuracy: 0.6042\n",
      "\n",
      "Epoch [9/20]\n",
      "Train Loss: 0.6634, Train Accuracy: 0.5978\n",
      "Val Loss: 0.6708, Val Accuracy: 0.5899\n",
      "\n",
      "Epoch [10/20]\n",
      "Train Loss: 0.6642, Train Accuracy: 0.5957\n",
      "Val Loss: 0.6680, Val Accuracy: 0.5842\n",
      "\n",
      "Epoch [11/20]\n",
      "Train Loss: 0.6601, Train Accuracy: 0.6063\n",
      "Val Loss: 0.6631, Val Accuracy: 0.6077\n",
      "\n",
      "Epoch [12/20]\n",
      "Train Loss: 0.6577, Train Accuracy: 0.6076\n",
      "Val Loss: 0.6580, Val Accuracy: 0.6083\n",
      "\n",
      "Epoch [13/20]\n",
      "Train Loss: 0.6518, Train Accuracy: 0.6154\n",
      "Val Loss: 0.6548, Val Accuracy: 0.6143\n",
      "\n",
      "Epoch [14/20]\n",
      "Train Loss: 0.6475, Train Accuracy: 0.6219\n",
      "Val Loss: 0.6562, Val Accuracy: 0.6038\n",
      "\n",
      "Epoch [15/20]\n",
      "Train Loss: 0.6483, Train Accuracy: 0.6221\n",
      "Val Loss: 0.6497, Val Accuracy: 0.6168\n",
      "\n",
      "Epoch [16/20]\n",
      "Train Loss: 0.6455, Train Accuracy: 0.6249\n",
      "Val Loss: 0.6499, Val Accuracy: 0.6215\n",
      "\n",
      "Epoch [17/20]\n",
      "Train Loss: 0.6413, Train Accuracy: 0.6303\n",
      "Val Loss: 0.6578, Val Accuracy: 0.6077\n",
      "\n",
      "Epoch [18/20]\n",
      "Train Loss: 0.6409, Train Accuracy: 0.6312\n",
      "Val Loss: 0.6480, Val Accuracy: 0.6213\n",
      "\n",
      "Epoch [19/20]\n",
      "Train Loss: 0.6354, Train Accuracy: 0.6354\n",
      "Val Loss: 0.6438, Val Accuracy: 0.6241\n",
      "\n",
      "Epoch [20/20]\n",
      "Train Loss: 0.6351, Train Accuracy: 0.6380\n",
      "Val Loss: 0.6531, Val Accuracy: 0.6153\n",
      "\n"
     ]
    }
   ],
   "source": [
    "num_epochs = 20  # Set number of epochs\n",
    "device = torch.device(\"cuda\" if torch.cuda.is_available() else \"cpu\")\n",
    "print(f\"Using device: {device}\")\n",
    "model.to(device)\n",
    "\n",
    "for epoch in range(num_epochs):\n",
    "    model.train()  # Set model to training mode\n",
    "    running_loss = 0.0\n",
    "    correct, total = 0, 0\n",
    "\n",
    "    for inputs, labels in train_loader:  # Assume train_loader is your DataLoader\n",
    "        inputs, labels = inputs.to(device), labels.to(device)\n",
    "\n",
    "        optimizer.zero_grad()  # Zero gradients\n",
    "        outputs = model(inputs)  # Forward pass\n",
    "        loss = criterion(outputs, labels)  # Compute loss\n",
    "        loss.backward()  # Backpropagation\n",
    "        optimizer.step()  # Update weights\n",
    "\n",
    "        running_loss += loss.item()\n",
    "        correct += (torch.argmax(outputs, dim=1) == labels).sum().item()\n",
    "        total += labels.size(0)\n",
    "\n",
    "    train_loss = running_loss / len(train_loader)\n",
    "    train_accuracy = correct / total\n",
    "\n",
    "    # Validation Phase\n",
    "    model.eval()  # Set model to evaluation mode\n",
    "    val_loss = 0.0\n",
    "    val_correct, val_total = 0, 0\n",
    "\n",
    "    with torch.no_grad():  # No need to track gradients for validation\n",
    "        for val_inputs, val_labels in val_loader:  # Assume val_loader is your validation DataLoader\n",
    "            val_inputs, val_labels = val_inputs.to(device), val_labels.to(device)\n",
    "            val_outputs = model(val_inputs)\n",
    "            loss = criterion(val_outputs, val_labels)\n",
    "            val_loss += loss.item()\n",
    "\n",
    "            val_correct += (torch.argmax(val_outputs, dim=1) == val_labels).sum().item()\n",
    "            val_total += val_labels.size(0)\n",
    "\n",
    "    val_loss /= len(val_loader)\n",
    "    val_accuracy = val_correct / val_total\n",
    "\n",
    "    print(f\"Epoch [{epoch+1}/{num_epochs}]\")\n",
    "    print(f\"Train Loss: {train_loss:.4f}, Train Accuracy: {train_accuracy:.4f}\")\n",
    "    print(f\"Val Loss: {val_loss:.4f}, Val Accuracy: {val_accuracy:.4f}\\n\")"
   ]
  },
  {
   "cell_type": "code",
   "execution_count": 9,
   "metadata": {},
   "outputs": [],
   "source": [
    "# save teh model\n",
    "torch.save(model.state_dict(), 'model20ViT.pth')"
   ]
  },
  {
   "cell_type": "code",
   "execution_count": 10,
   "metadata": {},
   "outputs": [
    {
     "name": "stdout",
     "output_type": "stream",
     "text": [
      "Test Loss: 0.6427, Test Accuracy: 0.6286\n"
     ]
    }
   ],
   "source": [
    "# test teh model\n",
    "model.eval()  # Set model to evaluation mode\n",
    "correct, total = 0, 0\n",
    "running_loss = 0.0\n",
    "criterion = nn.CrossEntropyLoss()\n",
    "\n",
    "with torch.no_grad():  # No need to track gradients for validation\n",
    "    for test_inputs, test_labels in test_loader:  # Assume val_loader is your validation DataLoader\n",
    "        test_inputs, test_labels = test_inputs.to(device), test_labels.to(device)\n",
    "        test_outputs = model(test_inputs)\n",
    "        loss = criterion(test_outputs, test_labels)\n",
    "        running_loss += loss.item()\n",
    "\n",
    "        correct += (torch.argmax(test_outputs, dim=1) == test_labels).sum().item()\n",
    "        total += test_labels.size(0)\n",
    "test_loss = running_loss / len(test_loader)\n",
    "test_accuracy = correct / total\n",
    "print(f\"Test Loss: {test_loss:.4f}, Test Accuracy: {test_accuracy:.4f}\")\n"
   ]
  },
  {
   "cell_type": "code",
   "execution_count": 11,
   "metadata": {},
   "outputs": [],
   "source": [
    "def evaluate_model(model, test_loader, device):\n",
    "    \"\"\"\n",
    "    Evaluate model on test data and return metrics\n",
    "    Args:\n",
    "        model: PyTorch model\n",
    "        test_loader: DataLoader with test data\n",
    "        device: 'cuda' or 'cpu'\n",
    "    Returns:\n",
    "        Dictionary containing metrics and confusion matrix\n",
    "    \"\"\"\n",
    "    model.eval()  # Set model to evaluation mode\n",
    "    all_preds = []\n",
    "    all_labels = []\n",
    "    \n",
    "    with torch.no_grad():\n",
    "        for inputs, labels in test_loader:\n",
    "            inputs = inputs.to(device)\n",
    "            labels = labels.to(device)\n",
    "            \n",
    "            outputs = model(inputs)\n",
    "            _, preds = torch.max(outputs, 1)\n",
    "            \n",
    "            all_preds.extend(preds.cpu().numpy())\n",
    "            all_labels.extend(labels.cpu().numpy())\n",
    "    \n",
    "    # Calculate metrics\n",
    "    recall = recall_score(all_labels, all_preds, average='binary')  # for 2 classes\n",
    "    f1 = f1_score(all_labels, all_preds, average='binary')\n",
    "    cm = confusion_matrix(all_labels, all_preds)\n",
    "    \n",
    "    return {\n",
    "        'recall': recall,\n",
    "        'f1_score': f1,\n",
    "        'confusion_matrix': cm\n",
    "    }\n",
    "\n",
    "def plot_confusion_matrix(cm):\n",
    "    plt.figure(figsize=(5,5))\n",
    "    sns.heatmap(cm, annot=True, fmt='d', cmap='Blues')\n",
    "    plt.ylabel('Actual')\n",
    "    plt.xlabel('Predicted')\n",
    "    plt.show()"
   ]
  },
  {
   "cell_type": "code",
   "execution_count": 12,
   "metadata": {},
   "outputs": [
    {
     "name": "stdout",
     "output_type": "stream",
     "text": [
      "Recall: 0.4195\n",
      "F1 Score: 0.5031\n",
      "Confusion Matrix:\n",
      "[[2343  591]\n",
      " [1384 1000]]\n"
     ]
    }
   ],
   "source": [
    "metrics = evaluate_model(model, test_loader, device)\n",
    "\n",
    "print(f\"Recall: {metrics['recall']:.4f}\")\n",
    "print(f\"F1 Score: {metrics['f1_score']:.4f}\")\n",
    "print(\"Confusion Matrix:\")\n",
    "print(metrics['confusion_matrix'])"
   ]
  },
  {
   "cell_type": "code",
   "execution_count": 13,
   "metadata": {},
   "outputs": [
    {
     "data": {
      "image/png": "[encoded data removed]",
      "text/plain": [
       "<Figure size 500x500 with 2 Axes>"
      ]
     },
     "metadata": {},
     "output_type": "display_data"
    }
   ],
   "source": [
    "plot_confusion_matrix(metrics['confusion_matrix'])"
   ]
  }
 ],
 "metadata": {
  "kernelspec": {
   "display_name": "Python 3",
   "language": "python",
   "name": "python3"
  },
  "language_info": {
   "codemirror_mode": {
    "name": "ipython",
    "version": 3
   },
   "file_extension": ".py",
   "mimetype": "text/x-python",
   "name": "python",
   "nbconvert_exporter": "python",
   "pygments_lexer": "ipython3",
   "version": "3.11.6"
  }
 },
 "nbformat": 4,
 "nbformat_minor": 2
}
